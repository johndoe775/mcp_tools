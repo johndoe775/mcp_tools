{
 "cells": [
  {
   "cell_type": "code",
   "execution_count": 1,
   "id": "e40fb464",
   "metadata": {},
   "outputs": [],
   "source": [
    "import yfinance as yf"
   ]
  },
  {
   "cell_type": "code",
   "execution_count": 15,
   "id": "c0617ce4",
   "metadata": {},
   "outputs": [],
   "source": [
    "stock = yf.Ticker(\"RELIANCE.NS\")\n",
    "stock_data_1d = stock.history(period=\"1d\")\n",
    "stock_data_5d = stock.history(period=\"5d\")\n",
    "stock_data_1mo = stock.history(period=\"1mo\")"
   ]
  },
  {
   "cell_type": "code",
   "execution_count": 18,
   "id": "2216bcf8",
   "metadata": {},
   "outputs": [
    {
     "data": {
      "text/html": [
       "<div>\n",
       "<style scoped>\n",
       "    .dataframe tbody tr th:only-of-type {\n",
       "        vertical-align: middle;\n",
       "    }\n",
       "\n",
       "    .dataframe tbody tr th {\n",
       "        vertical-align: top;\n",
       "    }\n",
       "\n",
       "    .dataframe thead th {\n",
       "        text-align: right;\n",
       "    }\n",
       "</style>\n",
       "<table border=\"1\" class=\"dataframe\">\n",
       "  <thead>\n",
       "    <tr style=\"text-align: right;\">\n",
       "      <th></th>\n",
       "      <th>Date</th>\n",
       "      <th>Close</th>\n",
       "    </tr>\n",
       "  </thead>\n",
       "  <tbody>\n",
       "    <tr>\n",
       "      <th>0</th>\n",
       "      <td>2025-10-03 00:00:00+05:30</td>\n",
       "      <td>1363.400024</td>\n",
       "    </tr>\n",
       "  </tbody>\n",
       "</table>\n",
       "</div>"
      ],
      "text/plain": [
       "                       Date        Close\n",
       "0 2025-10-03 00:00:00+05:30  1363.400024"
      ]
     },
     "execution_count": 18,
     "metadata": {},
     "output_type": "execute_result"
    }
   ],
   "source": [
    "stock_data_1d.reset_index()[[\"Date\",\"Close\"]]"
   ]
  },
  {
   "cell_type": "code",
   "execution_count": 19,
   "id": "9106dea3",
   "metadata": {},
   "outputs": [
    {
     "data": {
      "text/html": [
       "<div>\n",
       "<style scoped>\n",
       "    .dataframe tbody tr th:only-of-type {\n",
       "        vertical-align: middle;\n",
       "    }\n",
       "\n",
       "    .dataframe tbody tr th {\n",
       "        vertical-align: top;\n",
       "    }\n",
       "\n",
       "    .dataframe thead th {\n",
       "        text-align: right;\n",
       "    }\n",
       "</style>\n",
       "<table border=\"1\" class=\"dataframe\">\n",
       "  <thead>\n",
       "    <tr style=\"text-align: right;\">\n",
       "      <th></th>\n",
       "      <th>Date</th>\n",
       "      <th>Close</th>\n",
       "    </tr>\n",
       "  </thead>\n",
       "  <tbody>\n",
       "    <tr>\n",
       "      <th>0</th>\n",
       "      <td>2025-09-29 00:00:00+05:30</td>\n",
       "      <td>1372.800049</td>\n",
       "    </tr>\n",
       "    <tr>\n",
       "      <th>1</th>\n",
       "      <td>2025-09-30 00:00:00+05:30</td>\n",
       "      <td>1364.000000</td>\n",
       "    </tr>\n",
       "    <tr>\n",
       "      <th>2</th>\n",
       "      <td>2025-10-01 00:00:00+05:30</td>\n",
       "      <td>1368.699951</td>\n",
       "    </tr>\n",
       "    <tr>\n",
       "      <th>3</th>\n",
       "      <td>2025-10-02 00:00:00+05:30</td>\n",
       "      <td>1368.699951</td>\n",
       "    </tr>\n",
       "    <tr>\n",
       "      <th>4</th>\n",
       "      <td>2025-10-03 00:00:00+05:30</td>\n",
       "      <td>1363.400024</td>\n",
       "    </tr>\n",
       "  </tbody>\n",
       "</table>\n",
       "</div>"
      ],
      "text/plain": [
       "                       Date        Close\n",
       "0 2025-09-29 00:00:00+05:30  1372.800049\n",
       "1 2025-09-30 00:00:00+05:30  1364.000000\n",
       "2 2025-10-01 00:00:00+05:30  1368.699951\n",
       "3 2025-10-02 00:00:00+05:30  1368.699951\n",
       "4 2025-10-03 00:00:00+05:30  1363.400024"
      ]
     },
     "execution_count": 19,
     "metadata": {},
     "output_type": "execute_result"
    }
   ],
   "source": [
    "stock_data_5d.reset_index()[[\"Date\",\"Close\"]]"
   ]
  },
  {
   "cell_type": "code",
   "execution_count": 23,
   "id": "b6b53ea4",
   "metadata": {},
   "outputs": [
    {
     "data": {
      "text/plain": [
       "array([[Timestamp('2025-09-03 00:00:00+0530', tz='Asia/Kolkata'),\n",
       "        1372.5999755859375]], dtype=object)"
      ]
     },
     "execution_count": 23,
     "metadata": {},
     "output_type": "execute_result"
    }
   ],
   "source": [
    "stock_data_1mo.reset_index()[[\"Date\",\"Close\"]].head(1).values"
   ]
  },
  {
   "cell_type": "code",
   "execution_count": 53,
   "id": "860c07d7",
   "metadata": {},
   "outputs": [],
   "source": [
    "import pandas as pd\n",
    "\n",
    "periods = [ \"5d\", \"1mo\"]\n",
    "data = []\n",
    "\n",
    "for period in periods:\n",
    "    if period==\"5d\":\n",
    "        df = stock.history(period=period).iloc[[0,-2,-1],:].reset_index()[[\"Date\", \"Close\"]]\n",
    "        data.append(df)\n",
    "    else:\n",
    "        df = stock.history(period=period).iloc[[0],:].reset_index()[[\"Date\", \"Close\"]]\n",
    "        data.append(df)\n",
    "\n",
    "result_df = pd.concat(data, ignore_index=True)"
   ]
  },
  {
   "cell_type": "code",
   "execution_count": 43,
   "id": "8faf0461",
   "metadata": {},
   "outputs": [
    {
     "data": {
      "text/html": [
       "<div>\n",
       "<style scoped>\n",
       "    .dataframe tbody tr th:only-of-type {\n",
       "        vertical-align: middle;\n",
       "    }\n",
       "\n",
       "    .dataframe tbody tr th {\n",
       "        vertical-align: top;\n",
       "    }\n",
       "\n",
       "    .dataframe thead th {\n",
       "        text-align: right;\n",
       "    }\n",
       "</style>\n",
       "<table border=\"1\" class=\"dataframe\">\n",
       "  <thead>\n",
       "    <tr style=\"text-align: right;\">\n",
       "      <th></th>\n",
       "      <th>Date</th>\n",
       "      <th>Close</th>\n",
       "    </tr>\n",
       "  </thead>\n",
       "  <tbody>\n",
       "    <tr>\n",
       "      <th>0</th>\n",
       "      <td>2025-09-29 00:00:00+05:30</td>\n",
       "      <td>1372.800049</td>\n",
       "    </tr>\n",
       "    <tr>\n",
       "      <th>1</th>\n",
       "      <td>2025-10-02 00:00:00+05:30</td>\n",
       "      <td>1368.699951</td>\n",
       "    </tr>\n",
       "    <tr>\n",
       "      <th>2</th>\n",
       "      <td>2025-10-03 00:00:00+05:30</td>\n",
       "      <td>1363.400024</td>\n",
       "    </tr>\n",
       "    <tr>\n",
       "      <th>3</th>\n",
       "      <td>2025-09-03 00:00:00+05:30</td>\n",
       "      <td>1372.599976</td>\n",
       "    </tr>\n",
       "  </tbody>\n",
       "</table>\n",
       "</div>"
      ],
      "text/plain": [
       "                       Date        Close\n",
       "0 2025-09-29 00:00:00+05:30  1372.800049\n",
       "1 2025-10-02 00:00:00+05:30  1368.699951\n",
       "2 2025-10-03 00:00:00+05:30  1363.400024\n",
       "3 2025-09-03 00:00:00+05:30  1372.599976"
      ]
     },
     "execution_count": 43,
     "metadata": {},
     "output_type": "execute_result"
    }
   ],
   "source": [
    "result_df"
   ]
  },
  {
   "cell_type": "code",
   "execution_count": 54,
   "id": "e702437c",
   "metadata": {},
   "outputs": [],
   "source": [
    "# Sort by 'Date' descending\n",
    "result_df = result_df.sort_values('Date', ascending=False)\n",
    "\n",
    "# Convert 'Date' to date only (remove timezone and time)\n",
    "result_df['Date'] = result_df['Date'].dt.date\n",
    "\n",
    "# Calculate first difference of 'Close'\n",
    "result_df['diff1'] = result_df['Close'].diff(-1) / result_df['Close'].shift(-1)\n",
    "\n",
    "# Calculate second difference of 'Close'\n",
    "result_df['diff2'] = result_df['Close'].diff(-2) / result_df['Close'].shift(-2)\n",
    "\n",
    "# Calculate third difference of 'Close'\n",
    "# Calculate third difference of 'Close'\n",
    "result_df['diff3'] = result_df['Close'].diff(-3) / result_df['Close'].shift(-3)\n",
    "\n",
    "# Rename changes as dod, wow, mom %\n",
    "result_df['dod %'] = result_df['diff1'] * 100\n",
    "result_df['wow %'] = result_df['diff2'] * 100\n",
    "result_df['mom %'] = result_df['diff3'] * 100\n",
    "\n",
    "result_df.dropna(inplace=True)"
   ]
  },
  {
   "cell_type": "code",
   "execution_count": 56,
   "id": "57c7fdf4",
   "metadata": {},
   "outputs": [
    {
     "data": {
      "text/html": [
       "<div>\n",
       "<style scoped>\n",
       "    .dataframe tbody tr th:only-of-type {\n",
       "        vertical-align: middle;\n",
       "    }\n",
       "\n",
       "    .dataframe tbody tr th {\n",
       "        vertical-align: top;\n",
       "    }\n",
       "\n",
       "    .dataframe thead th {\n",
       "        text-align: right;\n",
       "    }\n",
       "</style>\n",
       "<table border=\"1\" class=\"dataframe\">\n",
       "  <thead>\n",
       "    <tr style=\"text-align: right;\">\n",
       "      <th></th>\n",
       "      <th>Date</th>\n",
       "      <th>Close</th>\n",
       "      <th>dod %</th>\n",
       "      <th>wow %</th>\n",
       "      <th>mom %</th>\n",
       "    </tr>\n",
       "  </thead>\n",
       "  <tbody>\n",
       "    <tr>\n",
       "      <th>2</th>\n",
       "      <td>2025-10-03</td>\n",
       "      <td>1363.400024</td>\n",
       "      <td>-0.387223</td>\n",
       "      <td>-0.684734</td>\n",
       "      <td>-0.670257</td>\n",
       "    </tr>\n",
       "  </tbody>\n",
       "</table>\n",
       "</div>"
      ],
      "text/plain": [
       "         Date        Close     dod %     wow %     mom %\n",
       "2  2025-10-03  1363.400024 -0.387223 -0.684734 -0.670257"
      ]
     },
     "execution_count": 56,
     "metadata": {},
     "output_type": "execute_result"
    }
   ],
   "source": [
    "result_df[['Date', 'Close', 'dod %', 'wow %', 'mom %']]"
   ]
  },
  {
   "cell_type": "code",
   "execution_count": 28,
   "id": "32834f24",
   "metadata": {},
   "outputs": [],
   "source": [
    "import yfinance as yf\n",
    "import pandas as pd\n",
    "\n",
    "def get_stock_diffs(ticker: str):\n",
    "    \"\"\"\n",
    "    Returns a DataFrame with the closing price and day‑over‑day (dod %),\n",
    "    week‑over‑week (wow %) and month‑over‑month (mom %) percentage changes.\n",
    "\n",
    "    Parameters\n",
    "    ----------\n",
    "    ticker : str\n",
    "        Stock ticker symbol (e.g., \"AAPL\").\n",
    "    periods : list, optional\n",
    "        List of Yahoo Finance periods to pull. Default is [\"5d\", \"1mo\"].\n",
    "        The first period should contain at least three rows (e.g., \"5d\")\n",
    "        so that the three‑period differences can be computed.\n",
    "\n",
    "    Returns\n",
    "    -------\n",
    "    pandas.DataFrame\n",
    "        Columns: Date, Close, dod %, wow %, mom % (sorted newest‑first).\n",
    "    \"\"\"\n",
    "    periods = [\"5d\", \"1mo\"]\n",
    "    stock = yf.Ticker(ticker)\n",
    "\n",
    "    # Collect the required rows from each period\n",
    "    data_frames = []\n",
    "    for period in periods:\n",
    "        hist = stock.history(period=period)\n",
    "\n",
    "        if period == \"5d\":\n",
    "            # keep first, second‑last and last rows\n",
    "            df = hist.iloc[[0, -2, -1]].reset_index()[[\"Date\", \"Close\"]]\n",
    "        else:\n",
    "            # keep only the first row of the longer period\n",
    "            df = hist.iloc[[0]].reset_index()[[\"Date\", \"Close\"]]\n",
    "\n",
    "        data_frames.append(df)\n",
    "\n",
    "    # Combine the slices\n",
    "    result_df = pd.concat(data_frames, ignore_index=True)\n",
    "\n",
    "    # Sort by date descending\n",
    "    result_df = result_df.sort_values(\"Date\", ascending=False)\n",
    "\n",
    "    # Keep only the date part (drop timezone / time)\n",
    "    result_df[\"Date\"] = result_df[\"Date\"].dt.date\n",
    "\n",
    "    # Percentage differences\n",
    "    result_df[\"dod %\"] = result_df[\"Close\"].diff(-1) / result_df[\"Close\"].shift(-1) * 100\n",
    "    result_df[\"wow %\"] = result_df[\"Close\"].diff(-2) / result_df[\"Close\"].shift(-2) * 100\n",
    "    result_df[\"mom %\"] = result_df[\"Close\"].diff(-3) / result_df[\"Close\"].shift(-3) * 100\n",
    "\n",
    "    # Remove rows where any diff is NaN (the earliest rows)\n",
    "    result_df.dropna(inplace=True)\n",
    "\n",
    "    # Re‑order columns for readability\n",
    "    result_df= result_df[[\"Date\", \"Close\", \"dod %\", \"wow %\", \"mom %\"]]\n",
    "    result_df[\"Date\"] = result_df[\"Date\"].astype(str)\n",
    "    columns=result_df.columns\n",
    "    values=result_df.values[0]\n",
    "    result=dict()\n",
    "    for i,j in zip(columns, values):\n",
    "        result[i]=j\n",
    "\n",
    "    return result"
   ]
  },
  {
   "cell_type": "code",
   "execution_count": 29,
   "id": "2398c357",
   "metadata": {},
   "outputs": [
    {
     "data": {
      "text/plain": [
       "{'Date': '2025-10-03',\n",
       " 'Close': 1363.4000244140625,\n",
       " 'dod %': -0.3872234198061252,\n",
       " 'wow %': -0.6847336887907837,\n",
       " 'mom %': -0.6702572734600051}"
      ]
     },
     "execution_count": 29,
     "metadata": {},
     "output_type": "execute_result"
    }
   ],
   "source": [
    "get_stock_diffs(\"RELIANCE.NS\")"
   ]
  },
  {
   "cell_type": "code",
   "execution_count": null,
   "id": "a8857a42",
   "metadata": {},
   "outputs": [
    {
     "data": {
      "text/plain": [
       "{'Date': datetime.date(2025, 10, 3),\n",
       " 'Close': 1363.4000244140625,\n",
       " 'dod %': -0.3872234198061252,\n",
       " 'wow %': -0.6847336887907837,\n",
       " 'mom %': -0.6702572734600051}"
      ]
     },
     "execution_count": 22,
     "metadata": {},
     "output_type": "execute_result"
    }
   ],
   "source": [
    "result"
   ]
  },
  {
   "cell_type": "code",
   "execution_count": 1,
   "id": "dae1e959",
   "metadata": {},
   "outputs": [],
   "source": [
    "import yaml"
   ]
  },
  {
   "cell_type": "code",
   "execution_count": 2,
   "id": "32cc0500",
   "metadata": {},
   "outputs": [],
   "source": [
    "with open(\"/workspaces/mcp_tools/src/prompts.yaml\",\"r\") as f:\n",
    "    data=yaml.safe_load(f)"
   ]
  },
  {
   "cell_type": "code",
   "execution_count": 3,
   "id": "c6834d68",
   "metadata": {},
   "outputs": [
    {
     "data": {
      "text/plain": [
       "{'resume_and_job_decription_rewrite': {'tool_use_case': 'use this tool to rewrite a resume based on a job description provided.',\n",
       "  'prompt': '\"\"\"\\nRewrite the following resume to match the job description provided:\\n\\nResume: {resume}\\n\\nJob Description: {job_description}\\n\\nInstructions:\\n1) Use the available experience, projects, and skills to rewrite the resume.\\n2) Don\\'t Halucinate.\\n3) Don\\'t use any external data but only the resume and job description.\\n4) Don\\'t mention any comments or notes and preamble in the response.\\n5) Give the output in markdown format with proper orientation and formatting.\\n\"\"\"\\n',\n",
       "  'inputs': {'resume': 'resume', 'job_description': 'job_description'}},\n",
       " 'cold_mail_and_person_info': {'tool_use_case': 'use this tool to write a professional and inquisitive cold mail tailored to a personal information of the recruiter, seeking job opportunities.',\n",
       "  'prompt': '\"\"\"\\nUsing the following resume, write a professional and inquisitive cold mail tailored to the personal information of the recruiter, seeking job opportunities:\\n\\nResume: {resume}\\n\\nPerson Information of the recruiter: {personal_info}\\n\\nInstructions:\\n\\n1) Start with the salutation \"Hi.\"\\n2) Write in the first person.\\n3) Utilize only the experience, projects, and skills from the resume to craft the email; do not include any external data or assumptions.\\n4) Maintain a professional and inquisitive tone, expressing interest in job opportunities.\\n5) Do not include any comments or preamble in the response.\\n6) Ensure the entire message is conveyed in no more than 5 lines.\\n7) Conclude with \"Regards,\" followed by the name of the person whose resume is being used.\\n8) Format the output in markdown as an email with proper orientation and paragraphing.\\n\"\"\"\\n',\n",
       "  'inputs': {'resume': 'resume', 'personal_info': 'personal_info'}},\n",
       " 'cold_mail_no_personal_info': {'tool_use_case': 'use this tool to write a generic professional and inquisitive cold mail seeking job opportunities without any personal information about the recipient.',\n",
       "  'prompt': '\"\"\"\\nUsing the following resume, write a generic professional and inquisitive cold mail seeking job opportunities. No personal information about the recipient is provided.\\n\\nResume: {resume}\\n\\nInstructions:\\n-1) Start with salutaion hi\\n0) write in first person.\\n1) Use the available experience, projects, and skills from the resume to write the cold mail.\\n2) The tone must be professional and inquisitive, seeking job opportunities.\\n3) Don\\'t hallucinate.\\n4) Don\\'t use any external data but only the resume.\\n5) Don\\'t mention any comments and preamble in the response.\\n6) Make sure that the entire message is conveyed in not more than 5 lines.\\n7) End with regards and the name of ther person whose resume is being used.\\n8) Give the output in markdown format in email format with proper orientation and use regards as ending greeeting followed by the name of the person from the resume\\n9)Make sure that mail is properly paragraphed and formatted.\\n\"\"\"\\n',\n",
       "  'inputs': {'resume': 'resume'}}}"
      ]
     },
     "execution_count": 3,
     "metadata": {},
     "output_type": "execute_result"
    }
   ],
   "source": [
    "data"
   ]
  },
  {
   "cell_type": "code",
   "execution_count": 1,
   "id": "6d74cd4c",
   "metadata": {},
   "outputs": [],
   "source": [
    "import yaml \n",
    "def prompt_selection(conv:str):\n",
    "    \"\"\" based on the input in the conversations select the appropriate prompt and return the prompt name\n",
    "    \"\"\"\n",
    "    with open(\"/workspaces/mcp_tools/src/prompts.yaml\",\"r\") as f:\n",
    "        data=yaml.safe_load(f)\n",
    "    prompt_name=\"\"\n",
    "\n",
    "    return prompt_name\n",
    "        "
   ]
  },
  {
   "cell_type": "code",
   "execution_count": 1,
   "id": "d9137eb5",
   "metadata": {},
   "outputs": [
    {
     "name": "stderr",
     "output_type": "stream",
     "text": [
      "WARNING: All log messages before absl::InitializeLog() is called are written to STDERR\n",
      "E0000 00:00:1759747080.188648   63163 alts_credentials.cc:93] ALTS creds ignored. Not running on GCP and untrusted ALTS is not enabled.\n"
     ]
    }
   ],
   "source": [
    "from langchain_google_genai import ChatGoogleGenerativeAI\n",
    "import os\n",
    "from dotenv import load_dotenv\n",
    "load_dotenv()\n",
    "api_key = os.environ.get(\"gemini_api_key\")\n",
    "\n",
    "llm = ChatGoogleGenerativeAI(\n",
    "    model=\"gemini-2.5-pro\",\n",
    "    temperature=0,\n",
    "    max_tokens=None,\n",
    "    timeout=None,\n",
    "    max_retries=2,\n",
    "    api_key=api_key\n",
    ")"
   ]
  },
  {
   "cell_type": "code",
   "execution_count": 3,
   "id": "122e9b6c",
   "metadata": {},
   "outputs": [
    {
     "data": {
      "text/plain": [
       "'The Taj Mahal is located in **Agra, India**.\\n\\nTo be more specific:\\n\\n*   **City:** Agra\\n*   **State:** Uttar Pradesh\\n*   **Country:** India\\n*   **Exact Location:** It stands on the south bank of the **Yamuna River**.\\n\\nIt is one of the most famous and recognizable landmarks in the world, built by the Mughal emperor Shah Jahan as a mausoleum for his favorite wife, Mumtaz Mahal.'"
      ]
     },
     "execution_count": 3,
     "metadata": {},
     "output_type": "execute_result"
    }
   ],
   "source": [
    "llm.invoke(\"where is taj mahal\").content"
   ]
  },
  {
   "cell_type": "code",
   "execution_count": 2,
   "id": "3268b5f1",
   "metadata": {},
   "outputs": [
    {
     "ename": "ModuleNotFoundError",
     "evalue": "No module named 'hr_server'",
     "output_type": "error",
     "traceback": [
      "\u001b[31m---------------------------------------------------------------------------\u001b[39m",
      "\u001b[31mModuleNotFoundError\u001b[39m                       Traceback (most recent call last)",
      "\u001b[36mCell\u001b[39m\u001b[36m \u001b[39m\u001b[32mIn[2]\u001b[39m\u001b[32m, line 1\u001b[39m\n\u001b[32m----> \u001b[39m\u001b[32m1\u001b[39m \u001b[38;5;28;01mfrom\u001b[39;00m\u001b[38;5;250m \u001b[39m\u001b[34;01mhr_server\u001b[39;00m\u001b[34;01m.\u001b[39;00m\u001b[34;01mllm\u001b[39;00m\u001b[38;5;250m \u001b[39m\u001b[38;5;28;01mimport\u001b[39;00m LLM\n",
      "\u001b[31mModuleNotFoundError\u001b[39m: No module named 'hr_server'"
     ]
    }
   ],
   "source": [
    "from hr_server.llm import LLM\n",
    "\n"
   ]
  },
  {
   "cell_type": "code",
   "execution_count": 1,
   "id": "209285b4",
   "metadata": {},
   "outputs": [],
   "source": [
    "import os"
   ]
  },
  {
   "cell_type": "code",
   "execution_count": 2,
   "id": "835a60c2",
   "metadata": {},
   "outputs": [
    {
     "data": {
      "text/plain": [
       "'/workspaces/mcp_tools/research'"
      ]
     },
     "execution_count": 2,
     "metadata": {},
     "output_type": "execute_result"
    }
   ],
   "source": [
    "os.getcwd()"
   ]
  },
  {
   "cell_type": "code",
   "execution_count": 3,
   "id": "2b1f7a8e",
   "metadata": {},
   "outputs": [
    {
     "ename": "ModuleNotFoundError",
     "evalue": "No module named 'PyPDF2'",
     "output_type": "error",
     "traceback": [
      "\u001b[31m---------------------------------------------------------------------------\u001b[39m",
      "\u001b[31mModuleNotFoundError\u001b[39m                       Traceback (most recent call last)",
      "\u001b[36mCell\u001b[39m\u001b[36m \u001b[39m\u001b[32mIn[3]\u001b[39m\u001b[32m, line 5\u001b[39m\n\u001b[32m      4\u001b[39m \u001b[38;5;28;01mtry\u001b[39;00m:\n\u001b[32m----> \u001b[39m\u001b[32m5\u001b[39m     \u001b[38;5;28;01mfrom\u001b[39;00m\u001b[38;5;250m \u001b[39m\u001b[34;01mpypdf\u001b[39;00m\u001b[38;5;250m \u001b[39m\u001b[38;5;28;01mimport\u001b[39;00m PdfReader\n\u001b[32m      6\u001b[39m \u001b[38;5;28;01mexcept\u001b[39;00m \u001b[38;5;167;01mImportError\u001b[39;00m:\n",
      "\u001b[31mModuleNotFoundError\u001b[39m: No module named 'pypdf'",
      "\nDuring handling of the above exception, another exception occurred:\n",
      "\u001b[31mModuleNotFoundError\u001b[39m                       Traceback (most recent call last)",
      "\u001b[36mCell\u001b[39m\u001b[36m \u001b[39m\u001b[32mIn[3]\u001b[39m\u001b[32m, line 7\u001b[39m\n\u001b[32m      5\u001b[39m     \u001b[38;5;28;01mfrom\u001b[39;00m\u001b[38;5;250m \u001b[39m\u001b[34;01mpypdf\u001b[39;00m\u001b[38;5;250m \u001b[39m\u001b[38;5;28;01mimport\u001b[39;00m PdfReader\n\u001b[32m      6\u001b[39m \u001b[38;5;28;01mexcept\u001b[39;00m \u001b[38;5;167;01mImportError\u001b[39;00m:\n\u001b[32m----> \u001b[39m\u001b[32m7\u001b[39m     \u001b[38;5;28;01mfrom\u001b[39;00m\u001b[38;5;250m \u001b[39m\u001b[34;01mPyPDF2\u001b[39;00m\u001b[38;5;250m \u001b[39m\u001b[38;5;28;01mimport\u001b[39;00m PdfReader\n\u001b[32m     10\u001b[39m \u001b[38;5;28;01mdef\u001b[39;00m\u001b[38;5;250m \u001b[39m\u001b[34mpdf_to_text\u001b[39m(pdf_path, txt_path=\u001b[38;5;28;01mNone\u001b[39;00m):\n\u001b[32m     11\u001b[39m     pdf_path = Path(pdf_path)\n",
      "\u001b[31mModuleNotFoundError\u001b[39m: No module named 'PyPDF2'"
     ]
    }
   ],
   "source": [
    "import sys\n",
    "from pathlib import Path\n",
    "\n",
    "try:\n",
    "    from pypdf import PdfReader\n",
    "except ImportError:\n",
    "    from PyPDF2 import PdfReader\n",
    "\n",
    "\n",
    "def pdf_to_text(pdf_path, txt_path=None):\n",
    "    pdf_path = Path(pdf_path)\n",
    "    if not pdf_path.is_file():\n",
    "        raise FileNotFoundError(f\"PDF file not found: {pdf_path}\")\n",
    "\n",
    "    reader = PdfReader(str(pdf_path))\n",
    "    text_parts = []\n",
    "    for page in reader.pages:\n",
    "        page_text = page.extract_text()\n",
    "        if page_text:\n",
    "            text_parts.append(page_text)\n",
    "\n",
    "    full_text = \"\\n\".join(text_parts)\n",
    "\n",
    "    if txt_path is None:\n",
    "        txt_path = pdf_path.with_suffix(\".txt\")\n",
    "    else:\n",
    "        txt_path = Path(txt_path)\n",
    "\n",
    "    txt_path.write_text(full_text, encoding=\"utf-8\")\n",
    "    return txt_path\n",
    "\n",
    "\n",
    "# Example usage:\n",
    "# output_file = pdf_to_text(\"sample.pdf\")\n",
    "# print(f\"Text extracted to: {output_file}\")\n"
   ]
  },
  {
   "cell_type": "code",
   "execution_count": 8,
   "id": "7062a53d",
   "metadata": {},
   "outputs": [],
   "source": [
    "\n",
    "\n",
    "import PyPDF2\n",
    "pdf_path = \"/workspaces/mcp_tools/data/Dinesh Sagar - Resume_capg.pdf\"\n",
    "\n",
    "with open(pdf_path, \"rb\") as f:\n",
    "    reader = PyPDF2.PdfReader(f)\n",
    "    extracted_text = \"\"\n",
    "    for page in reader.pages:\n",
    "        extracted_text += page.extract_text() + \"\\n\"\n",
    "\n",
    "# extracted_text now contains the full text of the PDF.\n",
    "\n",
    "\n",
    "# extracted_text now contains the full text of the PDF.\n",
    "\n"
   ]
  },
  {
   "cell_type": "code",
   "execution_count": 10,
   "id": "4d1bce4c",
   "metadata": {},
   "outputs": [],
   "source": [
    "with open(\"resume.txt\",\"w\") as f:\n",
    "\n",
    "    f.write(extracted_text)"
   ]
  },
  {
   "cell_type": "code",
   "execution_count": null,
   "id": "f21e152d",
   "metadata": {},
   "outputs": [],
   "source": []
  },
  {
   "cell_type": "code",
   "execution_count": null,
   "id": "478ee85b",
   "metadata": {},
   "outputs": [],
   "source": []
  },
  {
   "cell_type": "code",
   "execution_count": null,
   "id": "081a3e3f",
   "metadata": {},
   "outputs": [],
   "source": []
  },
  {
   "cell_type": "code",
   "execution_count": null,
   "id": "3fb3d61b",
   "metadata": {},
   "outputs": [],
   "source": []
  },
  {
   "cell_type": "code",
   "execution_count": null,
   "id": "46daf369",
   "metadata": {},
   "outputs": [],
   "source": []
  },
  {
   "cell_type": "code",
   "execution_count": null,
   "id": "b8fe9bc4",
   "metadata": {},
   "outputs": [],
   "source": []
  },
  {
   "cell_type": "code",
   "execution_count": null,
   "id": "0ba31821",
   "metadata": {},
   "outputs": [],
   "source": []
  },
  {
   "cell_type": "code",
   "execution_count": null,
   "id": "a5d7523e",
   "metadata": {},
   "outputs": [],
   "source": []
  },
  {
   "cell_type": "code",
   "execution_count": null,
   "id": "7dbdca7c",
   "metadata": {},
   "outputs": [],
   "source": []
  },
  {
   "cell_type": "code",
   "execution_count": null,
   "id": "700f4f34",
   "metadata": {},
   "outputs": [],
   "source": []
  },
  {
   "cell_type": "code",
   "execution_count": null,
   "id": "4ce80699",
   "metadata": {},
   "outputs": [],
   "source": []
  },
  {
   "cell_type": "code",
   "execution_count": null,
   "id": "7633adc8",
   "metadata": {},
   "outputs": [],
   "source": []
  },
  {
   "cell_type": "code",
   "execution_count": null,
   "id": "d350a35c",
   "metadata": {},
   "outputs": [],
   "source": []
  },
  {
   "cell_type": "code",
   "execution_count": null,
   "id": "c0469ee0",
   "metadata": {},
   "outputs": [],
   "source": []
  },
  {
   "cell_type": "code",
   "execution_count": null,
   "id": "3675fade",
   "metadata": {},
   "outputs": [],
   "source": []
  },
  {
   "cell_type": "code",
   "execution_count": null,
   "id": "8f1051db",
   "metadata": {},
   "outputs": [],
   "source": []
  },
  {
   "cell_type": "code",
   "execution_count": null,
   "id": "b0ec5b39",
   "metadata": {},
   "outputs": [],
   "source": []
  },
  {
   "cell_type": "code",
   "execution_count": null,
   "id": "c2721c3d",
   "metadata": {},
   "outputs": [],
   "source": []
  },
  {
   "cell_type": "code",
   "execution_count": null,
   "id": "1b540d25",
   "metadata": {},
   "outputs": [],
   "source": [
    "\n",
    "\n",
    "# MCP LLM-as-a-Judge Chatbot Evaluator\n",
    "\n",
    "## Project Overview\n",
    "A production-grade server-side toolkit that turns any Large Language Model into an impartial judge for automated chatbot response evaluation. Built on Azure OpenAI and the high-performance FastMCP framework, it delivers sub-100 ms verdicts with enterprise security and horizontal-scaling support.\n",
    "\n",
    "## Key Capabilities\n",
    "- **Multi-criteria scoring**: relevance, safety, conciseness, tone, factual accuracy\n",
    "- **Custom rubrics**: JSON-driven evaluation criteria per deployment\n",
    "- **Batch mode**: evaluate 10 k+ conversations/minute\n",
    "- **Explainability**: returns per-criterion reasoning + overall verdict\n",
    "- **Resilient**: circuit-breaker, retry, caching, PII redaction\n",
    "- **Observability**: OpenTelemetry traces, Prometheus metrics, structured logs\n",
    "\n",
    "## Architecture\n"
   ]
  },
  {
   "cell_type": "code",
   "execution_count": 4,
   "id": "421b1840",
   "metadata": {},
   "outputs": [],
   "source": [
    "import yfinance as yf\n",
    "stock = yf.Ticker(\"KOTAKBANK.NS\")\n",
    "\n",
    "    # Collect the required rows from each period\n",
    "\n",
    "hist = stock.history(period=\"5d\")"
   ]
  },
  {
   "cell_type": "code",
   "execution_count": 6,
   "id": "15a406a0",
   "metadata": {},
   "outputs": [
    {
     "data": {
      "text/html": [
       "<div>\n",
       "<style scoped>\n",
       "    .dataframe tbody tr th:only-of-type {\n",
       "        vertical-align: middle;\n",
       "    }\n",
       "\n",
       "    .dataframe tbody tr th {\n",
       "        vertical-align: top;\n",
       "    }\n",
       "\n",
       "    .dataframe thead th {\n",
       "        text-align: right;\n",
       "    }\n",
       "</style>\n",
       "<table border=\"1\" class=\"dataframe\">\n",
       "  <thead>\n",
       "    <tr style=\"text-align: right;\">\n",
       "      <th></th>\n",
       "      <th>Date</th>\n",
       "      <th>Close</th>\n",
       "    </tr>\n",
       "  </thead>\n",
       "  <tbody>\n",
       "    <tr>\n",
       "      <th>0</th>\n",
       "      <td>2025-10-03 00:00:00+05:30</td>\n",
       "      <td>2100.500000</td>\n",
       "    </tr>\n",
       "    <tr>\n",
       "      <th>1</th>\n",
       "      <td>2025-10-06 00:00:00+05:30</td>\n",
       "      <td>2146.000000</td>\n",
       "    </tr>\n",
       "    <tr>\n",
       "      <th>2</th>\n",
       "      <td>2025-10-07 00:00:00+05:30</td>\n",
       "      <td>2126.899902</td>\n",
       "    </tr>\n",
       "    <tr>\n",
       "      <th>3</th>\n",
       "      <td>2025-10-08 00:00:00+05:30</td>\n",
       "      <td>2117.800049</td>\n",
       "    </tr>\n",
       "    <tr>\n",
       "      <th>4</th>\n",
       "      <td>2025-10-09 00:00:00+05:30</td>\n",
       "      <td>2136.300049</td>\n",
       "    </tr>\n",
       "  </tbody>\n",
       "</table>\n",
       "</div>"
      ],
      "text/plain": [
       "                       Date        Close\n",
       "0 2025-10-03 00:00:00+05:30  2100.500000\n",
       "1 2025-10-06 00:00:00+05:30  2146.000000\n",
       "2 2025-10-07 00:00:00+05:30  2126.899902\n",
       "3 2025-10-08 00:00:00+05:30  2117.800049\n",
       "4 2025-10-09 00:00:00+05:30  2136.300049"
      ]
     },
     "execution_count": 6,
     "metadata": {},
     "output_type": "execute_result"
    }
   ],
   "source": [
    "hist.reset_index()[[\"Date\",\"Close\"]].head(6)"
   ]
  },
  {
   "cell_type": "code",
   "execution_count": 25,
   "id": "02914a5f",
   "metadata": {},
   "outputs": [
    {
     "name": "stderr",
     "output_type": "stream",
     "text": [
      "/tmp/ipykernel_39807/4164402105.py:6: FutureWarning: YF.download() has changed argument auto_adjust default to True\n",
      "  nifty = yf.download('^NSEI', period='6mo')\n",
      "[*********************100%***********************]  1 of 1 completed\n",
      "/tmp/ipykernel_39807/4164402105.py:7: FutureWarning: YF.download() has changed argument auto_adjust default to True\n",
      "  stock = yf.download(ticker, period='6mo')\n",
      "[*********************100%***********************]  1 of 1 completed"
     ]
    },
    {
     "name": "stdout",
     "output_type": "stream",
     "text": [
      "Correlation between Nifty and RELIANCE.NS: 0.71\n"
     ]
    },
    {
     "name": "stderr",
     "output_type": "stream",
     "text": [
      "\n"
     ]
    }
   ],
   "source": [
    "import yfinance as yf\n",
    "import pandas as pd\n",
    "import numpy as np\n",
    "\n",
    "def calculate_correlation(ticker):\n",
    "    nifty = yf.download('^NSEI', period='6mo')\n",
    "    stock = yf.download(ticker, period='6mo')\n",
    "\n",
    "    nifty_close = nifty['Close'].pct_change().dropna()\n",
    "    stock_close = stock['Close'].pct_change().dropna()\n",
    "\n",
    "    common_dates = nifty_close.index.intersection(stock_close.index)\n",
    "    nifty_close = nifty_close.loc[common_dates]\n",
    "    stock_close = stock_close.loc[common_dates]\n",
    "\n",
    "    correlation = nifty_close.reset_index().iloc[:,-1].corr(stock_close.reset_index().iloc[:,-1])\n",
    "    return correlation\n",
    "\n",
    "ticker = input(\"Enter the ticker symbol: \")\n",
    "correlation = calculate_correlation(ticker)\n",
    "print(f\"Correlation between Nifty and {ticker}: {np.round(correlation,2)}\")\n"
   ]
  },
  {
   "cell_type": "code",
   "execution_count": null,
   "id": "ba201fe6",
   "metadata": {},
   "outputs": [],
   "source": [
    "import yfinance as yf\n",
    "import pandas as pd\n",
    "import numpy as np\n",
    "\n",
    "def calculate_correlation(ticker):\n",
    "    \"\"\"\n",
    "    Calculate the correlation between the given stock ticker and Nifty index.\n",
    "\n",
    "    Parameters\n",
    "    ----------\n",
    "    ticker : str\n",
    "        The stock ticker symbol.\n",
    "\n",
    "    Returns\n",
    "    -------\n",
    "    float\n",
    "        The correlation between the stock and Nifty index.\n",
    "    \"\"\"\n",
    "    nifty = yf.download('^NSEI', period='6mo')\n",
    "    stock = yf.download(ticker, period='6mo')\n",
    "\n",
    "    nifty_close = nifty['Close'].pct_change().dropna()\n",
    "    stock_close = stock['Close'].pct_change().dropna()\n",
    "\n",
    "    common_dates = nifty_close.index.intersection(stock_close.index)\n",
    "    nifty_close = nifty_close.loc[common_dates]\n",
    "    stock_close = stock_close.loc[common_dates]\n",
    "\n",
    "    correlation = nifty_close.reset_index().iloc[:,-1].corr(stock_close.reset_index().iloc[:,-1])\n",
    "    return correlation\n",
    "\n",
    "\n"
   ]
  },
  {
   "cell_type": "code",
   "execution_count": null,
   "id": "cb92d9a9",
   "metadata": {},
   "outputs": [],
   "source": []
  },
  {
   "cell_type": "code",
   "execution_count": null,
   "id": "ded0f282",
   "metadata": {},
   "outputs": [],
   "source": []
  },
  {
   "cell_type": "code",
   "execution_count": 7,
   "id": "3f37300c",
   "metadata": {},
   "outputs": [
    {
     "name": "stderr",
     "output_type": "stream",
     "text": [
      "/tmp/ipykernel_39807/2755859946.py:1: FutureWarning: YF.download() has changed argument auto_adjust default to True\n",
      "  nifty = yf.download('^NSEI', period='6mo')\n",
      "[*********************100%***********************]  1 of 1 completed\n",
      "/tmp/ipykernel_39807/2755859946.py:2: FutureWarning: YF.download() has changed argument auto_adjust default to True\n",
      "  stock = yf.download(\"RELIANCE.NS\", period='6mo')\n",
      "[*********************100%***********************]  1 of 1 completed\n"
     ]
    }
   ],
   "source": [
    "nifty = yf.download('^NSEI', period='6mo')\n",
    "stock = yf.download(\"RELIANCE.NS\", period='6mo')\n",
    "\n",
    "nifty_close = nifty['Close'].pct_change().dropna()\n",
    "stock_close = stock['Close'].pct_change().dropna()\n"
   ]
  },
  {
   "cell_type": "code",
   "execution_count": 10,
   "id": "a641c51c",
   "metadata": {},
   "outputs": [
    {
     "data": {
      "text/html": [
       "<div>\n",
       "<style scoped>\n",
       "    .dataframe tbody tr th:only-of-type {\n",
       "        vertical-align: middle;\n",
       "    }\n",
       "\n",
       "    .dataframe tbody tr th {\n",
       "        vertical-align: top;\n",
       "    }\n",
       "\n",
       "    .dataframe thead th {\n",
       "        text-align: right;\n",
       "    }\n",
       "</style>\n",
       "<table border=\"1\" class=\"dataframe\">\n",
       "  <thead>\n",
       "    <tr style=\"text-align: right;\">\n",
       "      <th>Ticker</th>\n",
       "      <th>Date</th>\n",
       "      <th>^NSEI</th>\n",
       "    </tr>\n",
       "  </thead>\n",
       "  <tbody>\n",
       "    <tr>\n",
       "      <th>0</th>\n",
       "      <td>2025-04-15</td>\n",
       "      <td>0.021902</td>\n",
       "    </tr>\n",
       "    <tr>\n",
       "      <th>1</th>\n",
       "      <td>2025-04-16</td>\n",
       "      <td>0.004657</td>\n",
       "    </tr>\n",
       "    <tr>\n",
       "      <th>2</th>\n",
       "      <td>2025-04-17</td>\n",
       "      <td>0.017683</td>\n",
       "    </tr>\n",
       "    <tr>\n",
       "      <th>3</th>\n",
       "      <td>2025-04-21</td>\n",
       "      <td>0.011483</td>\n",
       "    </tr>\n",
       "    <tr>\n",
       "      <th>4</th>\n",
       "      <td>2025-04-22</td>\n",
       "      <td>0.001728</td>\n",
       "    </tr>\n",
       "    <tr>\n",
       "      <th>...</th>\n",
       "      <td>...</td>\n",
       "      <td>...</td>\n",
       "    </tr>\n",
       "    <tr>\n",
       "      <th>119</th>\n",
       "      <td>2025-10-06</td>\n",
       "      <td>0.007367</td>\n",
       "    </tr>\n",
       "    <tr>\n",
       "      <th>120</th>\n",
       "      <td>2025-10-07</td>\n",
       "      <td>0.001222</td>\n",
       "    </tr>\n",
       "    <tr>\n",
       "      <th>121</th>\n",
       "      <td>2025-10-08</td>\n",
       "      <td>-0.002475</td>\n",
       "    </tr>\n",
       "    <tr>\n",
       "      <th>122</th>\n",
       "      <td>2025-10-09</td>\n",
       "      <td>0.005416</td>\n",
       "    </tr>\n",
       "    <tr>\n",
       "      <th>123</th>\n",
       "      <td>2025-10-10</td>\n",
       "      <td>0.004049</td>\n",
       "    </tr>\n",
       "  </tbody>\n",
       "</table>\n",
       "<p>124 rows × 2 columns</p>\n",
       "</div>"
      ],
      "text/plain": [
       "Ticker       Date     ^NSEI\n",
       "0      2025-04-15  0.021902\n",
       "1      2025-04-16  0.004657\n",
       "2      2025-04-17  0.017683\n",
       "3      2025-04-21  0.011483\n",
       "4      2025-04-22  0.001728\n",
       "..            ...       ...\n",
       "119    2025-10-06  0.007367\n",
       "120    2025-10-07  0.001222\n",
       "121    2025-10-08 -0.002475\n",
       "122    2025-10-09  0.005416\n",
       "123    2025-10-10  0.004049\n",
       "\n",
       "[124 rows x 2 columns]"
      ]
     },
     "execution_count": 10,
     "metadata": {},
     "output_type": "execute_result"
    }
   ],
   "source": [
    "nifty_close.reset_index()"
   ]
  },
  {
   "cell_type": "code",
   "execution_count": 11,
   "id": "43297a70",
   "metadata": {},
   "outputs": [
    {
     "data": {
      "text/html": [
       "<div>\n",
       "<style scoped>\n",
       "    .dataframe tbody tr th:only-of-type {\n",
       "        vertical-align: middle;\n",
       "    }\n",
       "\n",
       "    .dataframe tbody tr th {\n",
       "        vertical-align: top;\n",
       "    }\n",
       "\n",
       "    .dataframe thead th {\n",
       "        text-align: right;\n",
       "    }\n",
       "</style>\n",
       "<table border=\"1\" class=\"dataframe\">\n",
       "  <thead>\n",
       "    <tr style=\"text-align: right;\">\n",
       "      <th>Ticker</th>\n",
       "      <th>Date</th>\n",
       "      <th>RELIANCE.NS</th>\n",
       "    </tr>\n",
       "  </thead>\n",
       "  <tbody>\n",
       "    <tr>\n",
       "      <th>0</th>\n",
       "      <td>2025-04-15</td>\n",
       "      <td>0.017351</td>\n",
       "    </tr>\n",
       "    <tr>\n",
       "      <th>1</th>\n",
       "      <td>2025-04-16</td>\n",
       "      <td>-0.000645</td>\n",
       "    </tr>\n",
       "    <tr>\n",
       "      <th>2</th>\n",
       "      <td>2025-04-17</td>\n",
       "      <td>0.028403</td>\n",
       "    </tr>\n",
       "    <tr>\n",
       "      <th>3</th>\n",
       "      <td>2025-04-21</td>\n",
       "      <td>0.016477</td>\n",
       "    </tr>\n",
       "    <tr>\n",
       "      <th>4</th>\n",
       "      <td>2025-04-22</td>\n",
       "      <td>-0.003319</td>\n",
       "    </tr>\n",
       "    <tr>\n",
       "      <th>...</th>\n",
       "      <td>...</td>\n",
       "      <td>...</td>\n",
       "    </tr>\n",
       "    <tr>\n",
       "      <th>121</th>\n",
       "      <td>2025-10-06</td>\n",
       "      <td>0.008508</td>\n",
       "    </tr>\n",
       "    <tr>\n",
       "      <th>122</th>\n",
       "      <td>2025-10-07</td>\n",
       "      <td>0.007127</td>\n",
       "    </tr>\n",
       "    <tr>\n",
       "      <th>123</th>\n",
       "      <td>2025-10-08</td>\n",
       "      <td>-0.012565</td>\n",
       "    </tr>\n",
       "    <tr>\n",
       "      <th>124</th>\n",
       "      <td>2025-10-09</td>\n",
       "      <td>0.007606</td>\n",
       "    </tr>\n",
       "    <tr>\n",
       "      <th>125</th>\n",
       "      <td>2025-10-10</td>\n",
       "      <td>0.002177</td>\n",
       "    </tr>\n",
       "  </tbody>\n",
       "</table>\n",
       "<p>126 rows × 2 columns</p>\n",
       "</div>"
      ],
      "text/plain": [
       "Ticker       Date  RELIANCE.NS\n",
       "0      2025-04-15     0.017351\n",
       "1      2025-04-16    -0.000645\n",
       "2      2025-04-17     0.028403\n",
       "3      2025-04-21     0.016477\n",
       "4      2025-04-22    -0.003319\n",
       "..            ...          ...\n",
       "121    2025-10-06     0.008508\n",
       "122    2025-10-07     0.007127\n",
       "123    2025-10-08    -0.012565\n",
       "124    2025-10-09     0.007606\n",
       "125    2025-10-10     0.002177\n",
       "\n",
       "[126 rows x 2 columns]"
      ]
     },
     "execution_count": 11,
     "metadata": {},
     "output_type": "execute_result"
    }
   ],
   "source": [
    "stock_close.reset_index()"
   ]
  },
  {
   "cell_type": "code",
   "execution_count": 20,
   "id": "1379e623",
   "metadata": {},
   "outputs": [],
   "source": [
    "common_dates = nifty_close.index.intersection(stock_close.index)\n",
    "nifty_close = nifty_close.loc[common_dates]\n",
    "stock_close = stock_close.loc[common_dates]"
   ]
  },
  {
   "cell_type": "code",
   "execution_count": 21,
   "id": "95a4dbbd",
   "metadata": {},
   "outputs": [
    {
     "data": {
      "text/html": [
       "<div>\n",
       "<style scoped>\n",
       "    .dataframe tbody tr th:only-of-type {\n",
       "        vertical-align: middle;\n",
       "    }\n",
       "\n",
       "    .dataframe tbody tr th {\n",
       "        vertical-align: top;\n",
       "    }\n",
       "\n",
       "    .dataframe thead th {\n",
       "        text-align: right;\n",
       "    }\n",
       "</style>\n",
       "<table border=\"1\" class=\"dataframe\">\n",
       "  <thead>\n",
       "    <tr style=\"text-align: right;\">\n",
       "      <th>Ticker</th>\n",
       "      <th>^NSEI</th>\n",
       "    </tr>\n",
       "    <tr>\n",
       "      <th>Date</th>\n",
       "      <th></th>\n",
       "    </tr>\n",
       "  </thead>\n",
       "  <tbody>\n",
       "    <tr>\n",
       "      <th>2025-04-15</th>\n",
       "      <td>0.021902</td>\n",
       "    </tr>\n",
       "    <tr>\n",
       "      <th>2025-04-16</th>\n",
       "      <td>0.004657</td>\n",
       "    </tr>\n",
       "    <tr>\n",
       "      <th>2025-04-17</th>\n",
       "      <td>0.017683</td>\n",
       "    </tr>\n",
       "    <tr>\n",
       "      <th>2025-04-21</th>\n",
       "      <td>0.011483</td>\n",
       "    </tr>\n",
       "    <tr>\n",
       "      <th>2025-04-22</th>\n",
       "      <td>0.001728</td>\n",
       "    </tr>\n",
       "    <tr>\n",
       "      <th>...</th>\n",
       "      <td>...</td>\n",
       "    </tr>\n",
       "    <tr>\n",
       "      <th>2025-10-06</th>\n",
       "      <td>0.007367</td>\n",
       "    </tr>\n",
       "    <tr>\n",
       "      <th>2025-10-07</th>\n",
       "      <td>0.001222</td>\n",
       "    </tr>\n",
       "    <tr>\n",
       "      <th>2025-10-08</th>\n",
       "      <td>-0.002475</td>\n",
       "    </tr>\n",
       "    <tr>\n",
       "      <th>2025-10-09</th>\n",
       "      <td>0.005416</td>\n",
       "    </tr>\n",
       "    <tr>\n",
       "      <th>2025-10-10</th>\n",
       "      <td>0.004049</td>\n",
       "    </tr>\n",
       "  </tbody>\n",
       "</table>\n",
       "<p>124 rows × 1 columns</p>\n",
       "</div>"
      ],
      "text/plain": [
       "Ticker         ^NSEI\n",
       "Date                \n",
       "2025-04-15  0.021902\n",
       "2025-04-16  0.004657\n",
       "2025-04-17  0.017683\n",
       "2025-04-21  0.011483\n",
       "2025-04-22  0.001728\n",
       "...              ...\n",
       "2025-10-06  0.007367\n",
       "2025-10-07  0.001222\n",
       "2025-10-08 -0.002475\n",
       "2025-10-09  0.005416\n",
       "2025-10-10  0.004049\n",
       "\n",
       "[124 rows x 1 columns]"
      ]
     },
     "execution_count": 21,
     "metadata": {},
     "output_type": "execute_result"
    }
   ],
   "source": [
    "nifty_close"
   ]
  },
  {
   "cell_type": "code",
   "execution_count": 23,
   "id": "5293f98a",
   "metadata": {},
   "outputs": [
    {
     "data": {
      "text/plain": [
       "np.float64(0.7076239540703486)"
      ]
     },
     "execution_count": 23,
     "metadata": {},
     "output_type": "execute_result"
    }
   ],
   "source": [
    "nifty_close.reset_index().iloc[:,-1].corr(stock_close.reset_index().iloc[:,-1])"
   ]
  },
  {
   "cell_type": "code",
   "execution_count": 7,
   "id": "ec8ea90a",
   "metadata": {},
   "outputs": [],
   "source": [
    "import yfinance as yf\n",
    "import numpy as np\n",
    "import pandas as pd\n",
    "from datetime import datetime, timedelta\n",
    "\n",
    "def get_alpha_beta(ticker, period='6mo'):\n",
    "    \"\"\"\n",
    "    Calculate annualized alpha and beta for a given ticker vs Nifty 50 (^NSEI).\n",
    "    period: '6mo' or '1y'.\n",
    "    Returns: dict {'alpha': annual_alpha (float), 'beta': beta (float)}.\n",
    "    Raises ValueError on bad inputs or insufficient data.\n",
    "    \"\"\"\n",
    "    if period not in ('6mo', '1y'):\n",
    "        raise ValueError(\"period must be '6mo' or '1y'\")\n",
    "\n",
    "    index_ticker = \"^NSEI\"\n",
    "    asset = yf.Ticker(ticker)\n",
    "    index = yf.Ticker(index_ticker)\n",
    "\n",
    "    # Use yfinance .history with period string\n",
    "    hist_asset = asset.history(period=period)\n",
    "    hist_index = index.history(period=period)\n",
    "\n",
    "    if hist_asset.empty or hist_index.empty:\n",
    "        raise ValueError(\"No historical data returned for asset or index.\")\n",
    "\n",
    "    # Ensure Close column exists; reset index to keep Date if needed\n",
    "    if 'Close' not in hist_asset.columns or 'Close' not in hist_index.columns:\n",
    "        raise ValueError(\"Downloaded data missing 'Close' column.\")\n",
    "\n",
    "    # Align by intersection of dates\n",
    "    common_dates = hist_asset.index.intersection(hist_index.index)\n",
    "    if len(common_dates) < 2:\n",
    "        raise ValueError(\"Not enough overlapping data points between asset and index.\")\n",
    "\n",
    "    asset_prices = hist_asset.loc[common_dates, 'Close']\n",
    "    index_prices = hist_index.loc[common_dates, 'Close']\n",
    "\n",
    "    # Compute daily returns\n",
    "    asset_ret = asset_prices.pct_change().dropna()\n",
    "    index_ret = index_prices.pct_change().dropna()\n",
    "\n",
    "    # Re-align after pct_change (drop any mismatched start)\n",
    "    common_dates = asset_ret.index.intersection(index_ret.index)\n",
    "    asset_ret = asset_ret.loc[common_dates]\n",
    "    index_ret = index_ret.loc[common_dates]\n",
    "\n",
    "    if len(asset_ret) < 10:\n",
    "        raise ValueError(\"Insufficient return observations after alignment (need >=10).\")\n",
    "\n",
    "    # Compute covariance matrix (unbiased sample cov)\n",
    "    cov_matrix = np.cov(asset_ret, index_ret, ddof=1)\n",
    "    cov = cov_matrix[0, 1]\n",
    "    var_index = cov_matrix[1, 1]\n",
    "    if var_index == 0:\n",
    "        raise ValueError(\"Index variance is zero; cannot compute beta.\")\n",
    "\n",
    "    beta = float(cov / var_index)\n",
    "\n",
    "    # Daily alpha (excess return not annualized)\n",
    "    daily_alpha = float(asset_ret.mean() - beta * index_ret.mean())\n",
    "\n",
    "\n",
    "    # Annualize alpha assuming 252 trading days\n",
    "    annual_alpha = daily_alpha * len(common_dates)\n",
    "\n",
    "    return {'alpha': annual_alpha, 'beta': beta}\n"
   ]
  },
  {
   "cell_type": "code",
   "execution_count": 35,
   "id": "74bd1841",
   "metadata": {},
   "outputs": [
    {
     "name": "stdout",
     "output_type": "stream",
     "text": [
      "{'alpha': 0.0, 'beta': 1.0}\n"
     ]
    }
   ],
   "source": [
    "result = get_alpha_beta(\"^NSEI\", '1y')\n",
    "print(result)"
   ]
  },
  {
   "cell_type": "code",
   "execution_count": 19,
   "id": "38f7080f",
   "metadata": {},
   "outputs": [
    {
     "data": {
      "text/html": [
       "<div>\n",
       "<style scoped>\n",
       "    .dataframe tbody tr th:only-of-type {\n",
       "        vertical-align: middle;\n",
       "    }\n",
       "\n",
       "    .dataframe tbody tr th {\n",
       "        vertical-align: top;\n",
       "    }\n",
       "\n",
       "    .dataframe thead tr th {\n",
       "        text-align: left;\n",
       "    }\n",
       "</style>\n",
       "<table border=\"1\" class=\"dataframe\">\n",
       "  <thead>\n",
       "    <tr>\n",
       "      <th>Price</th>\n",
       "      <th>Date</th>\n",
       "      <th>Ticker</th>\n",
       "      <th>Index</th>\n",
       "    </tr>\n",
       "    <tr>\n",
       "      <th>Ticker</th>\n",
       "      <th></th>\n",
       "      <th>RELIANCE.NS</th>\n",
       "      <th>^NSEI</th>\n",
       "    </tr>\n",
       "  </thead>\n",
       "  <tbody>\n",
       "    <tr>\n",
       "      <th>0</th>\n",
       "      <td>2024-10-21</td>\n",
       "      <td>1363.753296</td>\n",
       "      <td>24781.099609</td>\n",
       "    </tr>\n",
       "    <tr>\n",
       "      <th>1</th>\n",
       "      <td>2024-10-22</td>\n",
       "      <td>1338.006104</td>\n",
       "      <td>24472.099609</td>\n",
       "    </tr>\n",
       "    <tr>\n",
       "      <th>2</th>\n",
       "      <td>2024-10-23</td>\n",
       "      <td>1333.200317</td>\n",
       "      <td>24435.500000</td>\n",
       "    </tr>\n",
       "    <tr>\n",
       "      <th>3</th>\n",
       "      <td>2024-10-24</td>\n",
       "      <td>1334.470337</td>\n",
       "      <td>24399.400391</td>\n",
       "    </tr>\n",
       "    <tr>\n",
       "      <th>4</th>\n",
       "      <td>2024-10-25</td>\n",
       "      <td>1322.567749</td>\n",
       "      <td>24180.800781</td>\n",
       "    </tr>\n",
       "    <tr>\n",
       "      <th>...</th>\n",
       "      <td>...</td>\n",
       "      <td>...</td>\n",
       "      <td>...</td>\n",
       "    </tr>\n",
       "    <tr>\n",
       "      <th>243</th>\n",
       "      <td>2025-10-13</td>\n",
       "      <td>1375.000000</td>\n",
       "      <td>25227.349609</td>\n",
       "    </tr>\n",
       "    <tr>\n",
       "      <th>244</th>\n",
       "      <td>2025-10-14</td>\n",
       "      <td>1375.900024</td>\n",
       "      <td>25145.500000</td>\n",
       "    </tr>\n",
       "    <tr>\n",
       "      <th>245</th>\n",
       "      <td>2025-10-15</td>\n",
       "      <td>1374.300049</td>\n",
       "      <td>25323.550781</td>\n",
       "    </tr>\n",
       "    <tr>\n",
       "      <th>246</th>\n",
       "      <td>2025-10-16</td>\n",
       "      <td>1398.300049</td>\n",
       "      <td>25585.300781</td>\n",
       "    </tr>\n",
       "    <tr>\n",
       "      <th>247</th>\n",
       "      <td>2025-10-17</td>\n",
       "      <td>1416.800049</td>\n",
       "      <td>25709.849609</td>\n",
       "    </tr>\n",
       "  </tbody>\n",
       "</table>\n",
       "<p>248 rows × 3 columns</p>\n",
       "</div>"
      ],
      "text/plain": [
       "Price        Date       Ticker         Index\n",
       "Ticker             RELIANCE.NS         ^NSEI\n",
       "0      2024-10-21  1363.753296  24781.099609\n",
       "1      2024-10-22  1338.006104  24472.099609\n",
       "2      2024-10-23  1333.200317  24435.500000\n",
       "3      2024-10-24  1334.470337  24399.400391\n",
       "4      2024-10-25  1322.567749  24180.800781\n",
       "..            ...          ...           ...\n",
       "243    2025-10-13  1375.000000  25227.349609\n",
       "244    2025-10-14  1375.900024  25145.500000\n",
       "245    2025-10-15  1374.300049  25323.550781\n",
       "246    2025-10-16  1398.300049  25585.300781\n",
       "247    2025-10-17  1416.800049  25709.849609\n",
       "\n",
       "[248 rows x 3 columns]"
      ]
     },
     "execution_count": 19,
     "metadata": {},
     "output_type": "execute_result"
    }
   ],
   "source": [
    "df"
   ]
  },
  {
   "cell_type": "code",
   "execution_count": 13,
   "id": "1e3d6ea4",
   "metadata": {},
   "outputs": [],
   "source": [
    "import yfinance as yf\n",
    "import numpy as np\n",
    "import pandas as pd\n",
    "from sklearn.linear_model import LinearRegression\n",
    "\n",
    "def get_alpha_beta_OLS(ticker, period='6mo'):\n",
    "    \"\"\"\n",
    "    Calculate annualized alpha and beta for a given ticker vs Nifty 50 (^NSEI) using sklearn LinearRegression.\n",
    "    period: '6mo' or '1y'.\n",
    "    Returns: dict {'alpha': annual_alpha (float), 'beta': beta (float)}.\n",
    "    Raises ValueError on bad inputs or insufficient data.\n",
    "    \"\"\"\n",
    "    if period not in ('6mo', '1y'):\n",
    "        raise ValueError(\"period must be '6mo' or '1y'\")\n",
    "\n",
    "    index_ticker = \"^NSEI\"\n",
    "    asset = yf.Ticker(ticker)\n",
    "    index = yf.Ticker(index_ticker)\n",
    "\n",
    "    hist_asset = asset.history(period=period)\n",
    "    hist_index = index.history(period=period)\n",
    "\n",
    "    if hist_asset.empty or hist_index.empty:\n",
    "        raise ValueError(\"No historical data returned for asset or index.\")\n",
    "\n",
    "    if 'Close' not in hist_asset.columns or 'Close' not in hist_index.columns:\n",
    "        raise ValueError(\"Downloaded data missing 'Close' column.\")\n",
    "\n",
    "    common_dates = hist_asset.index.intersection(hist_index.index)\n",
    "    if len(common_dates) < 2:\n",
    "        raise ValueError(\"Not enough overlapping data points between asset and index.\")\n",
    "\n",
    "    asset_prices = hist_asset.loc[common_dates, 'Close']\n",
    "    index_prices = hist_index.loc[common_dates, 'Close']\n",
    "\n",
    "    asset_ret = asset_prices.pct_change().dropna()\n",
    "    index_ret = index_prices.pct_change().dropna()\n",
    "\n",
    "    common_dates = asset_ret.index.intersection(index_ret.index)\n",
    "    asset_ret = asset_ret.loc[common_dates]\n",
    "    index_ret = index_ret.loc[common_dates]\n",
    "\n",
    "    if len(asset_ret) < 10:\n",
    "        raise ValueError(\"Insufficient return observations after alignment (need >=10).\")\n",
    "\n",
    "    # Prepare X and y for sklearn (reshape X to 2D)\n",
    "    X = index_ret.values.reshape(-1, 1)\n",
    "    y = asset_ret.values\n",
    "\n",
    "    model = LinearRegression().fit(X, y)\n",
    "    beta = float(model.coef_[0])\n",
    "    # Intercept is daily alpha (asset return = intercept + beta * index return)\n",
    "    daily_alpha = float(model.intercept_)\n",
    "    annual_alpha = daily_alpha * len(common_dates)\n",
    "\n",
    "    return {'alpha': annual_alpha, 'beta': beta}\n"
   ]
  },
  {
   "cell_type": "code",
   "execution_count": 15,
   "id": "74b6fb68",
   "metadata": {},
   "outputs": [
    {
     "data": {
      "text/plain": [
       "{'alpha': 0.035920109350363216, 'beta': 1.1711647201668274}"
      ]
     },
     "execution_count": 15,
     "metadata": {},
     "output_type": "execute_result"
    }
   ],
   "source": [
    "get_alpha_beta(\"RELIANCE.NS\", '1y') "
   ]
  },
  {
   "cell_type": "code",
   "execution_count": 16,
   "id": "d1a7cd4a",
   "metadata": {},
   "outputs": [
    {
     "data": {
      "text/plain": [
       "{'alpha': 0.035920109350363265, 'beta': 1.1711647201668265}"
      ]
     },
     "execution_count": 16,
     "metadata": {},
     "output_type": "execute_result"
    }
   ],
   "source": [
    "get_alpha_beta_OLS(\"RELIANCE.NS\", '1y') "
   ]
  },
  {
   "cell_type": "code",
   "execution_count": null,
   "id": "6aa1eeb7",
   "metadata": {},
   "outputs": [],
   "source": []
  },
  {
   "cell_type": "code",
   "execution_count": null,
   "id": "54a9b165",
   "metadata": {},
   "outputs": [],
   "source": []
  },
  {
   "cell_type": "code",
   "execution_count": null,
   "id": "2aed2f26",
   "metadata": {},
   "outputs": [],
   "source": []
  },
  {
   "cell_type": "code",
   "execution_count": null,
   "id": "9ad2b2fe",
   "metadata": {},
   "outputs": [],
   "source": []
  },
  {
   "cell_type": "code",
   "execution_count": null,
   "id": "d3a6d91f",
   "metadata": {},
   "outputs": [],
   "source": []
  },
  {
   "cell_type": "code",
   "execution_count": null,
   "metadata": {},
   "outputs": [],
   "source": []
  },
  {
   "cell_type": "code",
   "execution_count": null,
   "metadata": {},
   "outputs": [],
   "source": []
  }
 ],
 "metadata": {
  "kernelspec": {
   "display_name": "mcp_tools",
   "language": "python",
   "name": "python3"
  },
  "language_info": {
   "codemirror_mode": {
    "name": "ipython",
    "version": 3
   },
   "file_extension": ".py",
   "mimetype": "text/x-python",
   "name": "python",
   "nbconvert_exporter": "python",
   "pygments_lexer": "ipython3",
   "version": "3.12.1"
  }
 },
 "nbformat": 4,
 "nbformat_minor": 5
}

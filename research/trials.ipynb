{
 "cells": [
  {
   "cell_type": "code",
   "execution_count": 1,
   "id": "e40fb464",
   "metadata": {},
   "outputs": [],
   "source": [
    "import yfinance as yf"
   ]
  },
  {
   "cell_type": "code",
   "execution_count": 15,
   "id": "c0617ce4",
   "metadata": {},
   "outputs": [],
   "source": [
    "stock = yf.Ticker(\"RELIANCE.NS\")\n",
    "stock_data_1d = stock.history(period=\"1d\")\n",
    "stock_data_5d = stock.history(period=\"5d\")\n",
    "stock_data_1mo = stock.history(period=\"1mo\")"
   ]
  },
  {
   "cell_type": "code",
   "execution_count": 18,
   "id": "2216bcf8",
   "metadata": {},
   "outputs": [
    {
     "data": {
      "text/html": [
       "<div>\n",
       "<style scoped>\n",
       "    .dataframe tbody tr th:only-of-type {\n",
       "        vertical-align: middle;\n",
       "    }\n",
       "\n",
       "    .dataframe tbody tr th {\n",
       "        vertical-align: top;\n",
       "    }\n",
       "\n",
       "    .dataframe thead th {\n",
       "        text-align: right;\n",
       "    }\n",
       "</style>\n",
       "<table border=\"1\" class=\"dataframe\">\n",
       "  <thead>\n",
       "    <tr style=\"text-align: right;\">\n",
       "      <th></th>\n",
       "      <th>Date</th>\n",
       "      <th>Close</th>\n",
       "    </tr>\n",
       "  </thead>\n",
       "  <tbody>\n",
       "    <tr>\n",
       "      <th>0</th>\n",
       "      <td>2025-10-03 00:00:00+05:30</td>\n",
       "      <td>1363.400024</td>\n",
       "    </tr>\n",
       "  </tbody>\n",
       "</table>\n",
       "</div>"
      ],
      "text/plain": [
       "                       Date        Close\n",
       "0 2025-10-03 00:00:00+05:30  1363.400024"
      ]
     },
     "execution_count": 18,
     "metadata": {},
     "output_type": "execute_result"
    }
   ],
   "source": [
    "stock_data_1d.reset_index()[[\"Date\",\"Close\"]]"
   ]
  },
  {
   "cell_type": "code",
   "execution_count": 19,
   "id": "9106dea3",
   "metadata": {},
   "outputs": [
    {
     "data": {
      "text/html": [
       "<div>\n",
       "<style scoped>\n",
       "    .dataframe tbody tr th:only-of-type {\n",
       "        vertical-align: middle;\n",
       "    }\n",
       "\n",
       "    .dataframe tbody tr th {\n",
       "        vertical-align: top;\n",
       "    }\n",
       "\n",
       "    .dataframe thead th {\n",
       "        text-align: right;\n",
       "    }\n",
       "</style>\n",
       "<table border=\"1\" class=\"dataframe\">\n",
       "  <thead>\n",
       "    <tr style=\"text-align: right;\">\n",
       "      <th></th>\n",
       "      <th>Date</th>\n",
       "      <th>Close</th>\n",
       "    </tr>\n",
       "  </thead>\n",
       "  <tbody>\n",
       "    <tr>\n",
       "      <th>0</th>\n",
       "      <td>2025-09-29 00:00:00+05:30</td>\n",
       "      <td>1372.800049</td>\n",
       "    </tr>\n",
       "    <tr>\n",
       "      <th>1</th>\n",
       "      <td>2025-09-30 00:00:00+05:30</td>\n",
       "      <td>1364.000000</td>\n",
       "    </tr>\n",
       "    <tr>\n",
       "      <th>2</th>\n",
       "      <td>2025-10-01 00:00:00+05:30</td>\n",
       "      <td>1368.699951</td>\n",
       "    </tr>\n",
       "    <tr>\n",
       "      <th>3</th>\n",
       "      <td>2025-10-02 00:00:00+05:30</td>\n",
       "      <td>1368.699951</td>\n",
       "    </tr>\n",
       "    <tr>\n",
       "      <th>4</th>\n",
       "      <td>2025-10-03 00:00:00+05:30</td>\n",
       "      <td>1363.400024</td>\n",
       "    </tr>\n",
       "  </tbody>\n",
       "</table>\n",
       "</div>"
      ],
      "text/plain": [
       "                       Date        Close\n",
       "0 2025-09-29 00:00:00+05:30  1372.800049\n",
       "1 2025-09-30 00:00:00+05:30  1364.000000\n",
       "2 2025-10-01 00:00:00+05:30  1368.699951\n",
       "3 2025-10-02 00:00:00+05:30  1368.699951\n",
       "4 2025-10-03 00:00:00+05:30  1363.400024"
      ]
     },
     "execution_count": 19,
     "metadata": {},
     "output_type": "execute_result"
    }
   ],
   "source": [
    "stock_data_5d.reset_index()[[\"Date\",\"Close\"]]"
   ]
  },
  {
   "cell_type": "code",
   "execution_count": 23,
   "id": "b6b53ea4",
   "metadata": {},
   "outputs": [
    {
     "data": {
      "text/plain": [
       "array([[Timestamp('2025-09-03 00:00:00+0530', tz='Asia/Kolkata'),\n",
       "        1372.5999755859375]], dtype=object)"
      ]
     },
     "execution_count": 23,
     "metadata": {},
     "output_type": "execute_result"
    }
   ],
   "source": [
    "stock_data_1mo.reset_index()[[\"Date\",\"Close\"]].head(1).values"
   ]
  },
  {
   "cell_type": "code",
   "execution_count": 53,
   "id": "860c07d7",
   "metadata": {},
   "outputs": [],
   "source": [
    "import pandas as pd\n",
    "\n",
    "periods = [ \"5d\", \"1mo\"]\n",
    "data = []\n",
    "\n",
    "for period in periods:\n",
    "    if period==\"5d\":\n",
    "        df = stock.history(period=period).iloc[[0,-2,-1],:].reset_index()[[\"Date\", \"Close\"]]\n",
    "        data.append(df)\n",
    "    else:\n",
    "        df = stock.history(period=period).iloc[[0],:].reset_index()[[\"Date\", \"Close\"]]\n",
    "        data.append(df)\n",
    "\n",
    "result_df = pd.concat(data, ignore_index=True)"
   ]
  },
  {
   "cell_type": "code",
   "execution_count": 43,
   "id": "8faf0461",
   "metadata": {},
   "outputs": [
    {
     "data": {
      "text/html": [
       "<div>\n",
       "<style scoped>\n",
       "    .dataframe tbody tr th:only-of-type {\n",
       "        vertical-align: middle;\n",
       "    }\n",
       "\n",
       "    .dataframe tbody tr th {\n",
       "        vertical-align: top;\n",
       "    }\n",
       "\n",
       "    .dataframe thead th {\n",
       "        text-align: right;\n",
       "    }\n",
       "</style>\n",
       "<table border=\"1\" class=\"dataframe\">\n",
       "  <thead>\n",
       "    <tr style=\"text-align: right;\">\n",
       "      <th></th>\n",
       "      <th>Date</th>\n",
       "      <th>Close</th>\n",
       "    </tr>\n",
       "  </thead>\n",
       "  <tbody>\n",
       "    <tr>\n",
       "      <th>0</th>\n",
       "      <td>2025-09-29 00:00:00+05:30</td>\n",
       "      <td>1372.800049</td>\n",
       "    </tr>\n",
       "    <tr>\n",
       "      <th>1</th>\n",
       "      <td>2025-10-02 00:00:00+05:30</td>\n",
       "      <td>1368.699951</td>\n",
       "    </tr>\n",
       "    <tr>\n",
       "      <th>2</th>\n",
       "      <td>2025-10-03 00:00:00+05:30</td>\n",
       "      <td>1363.400024</td>\n",
       "    </tr>\n",
       "    <tr>\n",
       "      <th>3</th>\n",
       "      <td>2025-09-03 00:00:00+05:30</td>\n",
       "      <td>1372.599976</td>\n",
       "    </tr>\n",
       "  </tbody>\n",
       "</table>\n",
       "</div>"
      ],
      "text/plain": [
       "                       Date        Close\n",
       "0 2025-09-29 00:00:00+05:30  1372.800049\n",
       "1 2025-10-02 00:00:00+05:30  1368.699951\n",
       "2 2025-10-03 00:00:00+05:30  1363.400024\n",
       "3 2025-09-03 00:00:00+05:30  1372.599976"
      ]
     },
     "execution_count": 43,
     "metadata": {},
     "output_type": "execute_result"
    }
   ],
   "source": [
    "result_df"
   ]
  },
  {
   "cell_type": "code",
   "execution_count": 54,
   "id": "e702437c",
   "metadata": {},
   "outputs": [],
   "source": [
    "# Sort by 'Date' descending\n",
    "result_df = result_df.sort_values('Date', ascending=False)\n",
    "\n",
    "# Convert 'Date' to date only (remove timezone and time)\n",
    "result_df['Date'] = result_df['Date'].dt.date\n",
    "\n",
    "# Calculate first difference of 'Close'\n",
    "result_df['diff1'] = result_df['Close'].diff(-1) / result_df['Close'].shift(-1)\n",
    "\n",
    "# Calculate second difference of 'Close'\n",
    "result_df['diff2'] = result_df['Close'].diff(-2) / result_df['Close'].shift(-2)\n",
    "\n",
    "# Calculate third difference of 'Close'\n",
    "# Calculate third difference of 'Close'\n",
    "result_df['diff3'] = result_df['Close'].diff(-3) / result_df['Close'].shift(-3)\n",
    "\n",
    "# Rename changes as dod, wow, mom %\n",
    "result_df['dod %'] = result_df['diff1'] * 100\n",
    "result_df['wow %'] = result_df['diff2'] * 100\n",
    "result_df['mom %'] = result_df['diff3'] * 100\n",
    "\n",
    "result_df.dropna(inplace=True)"
   ]
  },
  {
   "cell_type": "code",
   "execution_count": 56,
   "id": "57c7fdf4",
   "metadata": {},
   "outputs": [
    {
     "data": {
      "text/html": [
       "<div>\n",
       "<style scoped>\n",
       "    .dataframe tbody tr th:only-of-type {\n",
       "        vertical-align: middle;\n",
       "    }\n",
       "\n",
       "    .dataframe tbody tr th {\n",
       "        vertical-align: top;\n",
       "    }\n",
       "\n",
       "    .dataframe thead th {\n",
       "        text-align: right;\n",
       "    }\n",
       "</style>\n",
       "<table border=\"1\" class=\"dataframe\">\n",
       "  <thead>\n",
       "    <tr style=\"text-align: right;\">\n",
       "      <th></th>\n",
       "      <th>Date</th>\n",
       "      <th>Close</th>\n",
       "      <th>dod %</th>\n",
       "      <th>wow %</th>\n",
       "      <th>mom %</th>\n",
       "    </tr>\n",
       "  </thead>\n",
       "  <tbody>\n",
       "    <tr>\n",
       "      <th>2</th>\n",
       "      <td>2025-10-03</td>\n",
       "      <td>1363.400024</td>\n",
       "      <td>-0.387223</td>\n",
       "      <td>-0.684734</td>\n",
       "      <td>-0.670257</td>\n",
       "    </tr>\n",
       "  </tbody>\n",
       "</table>\n",
       "</div>"
      ],
      "text/plain": [
       "         Date        Close     dod %     wow %     mom %\n",
       "2  2025-10-03  1363.400024 -0.387223 -0.684734 -0.670257"
      ]
     },
     "execution_count": 56,
     "metadata": {},
     "output_type": "execute_result"
    }
   ],
   "source": [
    "result_df[['Date', 'Close', 'dod %', 'wow %', 'mom %']]"
   ]
  },
  {
   "cell_type": "code",
   "execution_count": 28,
   "id": "32834f24",
   "metadata": {},
   "outputs": [],
   "source": [
    "import yfinance as yf\n",
    "import pandas as pd\n",
    "\n",
    "def get_stock_diffs(ticker: str):\n",
    "    \"\"\"\n",
    "    Returns a DataFrame with the closing price and day‑over‑day (dod %),\n",
    "    week‑over‑week (wow %) and month‑over‑month (mom %) percentage changes.\n",
    "\n",
    "    Parameters\n",
    "    ----------\n",
    "    ticker : str\n",
    "        Stock ticker symbol (e.g., \"AAPL\").\n",
    "    periods : list, optional\n",
    "        List of Yahoo Finance periods to pull. Default is [\"5d\", \"1mo\"].\n",
    "        The first period should contain at least three rows (e.g., \"5d\")\n",
    "        so that the three‑period differences can be computed.\n",
    "\n",
    "    Returns\n",
    "    -------\n",
    "    pandas.DataFrame\n",
    "        Columns: Date, Close, dod %, wow %, mom % (sorted newest‑first).\n",
    "    \"\"\"\n",
    "    periods = [\"5d\", \"1mo\"]\n",
    "    stock = yf.Ticker(ticker)\n",
    "\n",
    "    # Collect the required rows from each period\n",
    "    data_frames = []\n",
    "    for period in periods:\n",
    "        hist = stock.history(period=period)\n",
    "\n",
    "        if period == \"5d\":\n",
    "            # keep first, second‑last and last rows\n",
    "            df = hist.iloc[[0, -2, -1]].reset_index()[[\"Date\", \"Close\"]]\n",
    "        else:\n",
    "            # keep only the first row of the longer period\n",
    "            df = hist.iloc[[0]].reset_index()[[\"Date\", \"Close\"]]\n",
    "\n",
    "        data_frames.append(df)\n",
    "\n",
    "    # Combine the slices\n",
    "    result_df = pd.concat(data_frames, ignore_index=True)\n",
    "\n",
    "    # Sort by date descending\n",
    "    result_df = result_df.sort_values(\"Date\", ascending=False)\n",
    "\n",
    "    # Keep only the date part (drop timezone / time)\n",
    "    result_df[\"Date\"] = result_df[\"Date\"].dt.date\n",
    "\n",
    "    # Percentage differences\n",
    "    result_df[\"dod %\"] = result_df[\"Close\"].diff(-1) / result_df[\"Close\"].shift(-1) * 100\n",
    "    result_df[\"wow %\"] = result_df[\"Close\"].diff(-2) / result_df[\"Close\"].shift(-2) * 100\n",
    "    result_df[\"mom %\"] = result_df[\"Close\"].diff(-3) / result_df[\"Close\"].shift(-3) * 100\n",
    "\n",
    "    # Remove rows where any diff is NaN (the earliest rows)\n",
    "    result_df.dropna(inplace=True)\n",
    "\n",
    "    # Re‑order columns for readability\n",
    "    result_df= result_df[[\"Date\", \"Close\", \"dod %\", \"wow %\", \"mom %\"]]\n",
    "    result_df[\"Date\"] = result_df[\"Date\"].astype(str)\n",
    "    columns=result_df.columns\n",
    "    values=result_df.values[0]\n",
    "    result=dict()\n",
    "    for i,j in zip(columns, values):\n",
    "        result[i]=j\n",
    "\n",
    "    return result"
   ]
  },
  {
   "cell_type": "code",
   "execution_count": 29,
   "id": "2398c357",
   "metadata": {},
   "outputs": [
    {
     "data": {
      "text/plain": [
       "{'Date': '2025-10-03',\n",
       " 'Close': 1363.4000244140625,\n",
       " 'dod %': -0.3872234198061252,\n",
       " 'wow %': -0.6847336887907837,\n",
       " 'mom %': -0.6702572734600051}"
      ]
     },
     "execution_count": 29,
     "metadata": {},
     "output_type": "execute_result"
    }
   ],
   "source": [
    "get_stock_diffs(\"RELIANCE.NS\")"
   ]
  },
  {
   "cell_type": "code",
   "execution_count": null,
   "id": "a8857a42",
   "metadata": {},
   "outputs": [
    {
     "data": {
      "text/plain": [
       "{'Date': datetime.date(2025, 10, 3),\n",
       " 'Close': 1363.4000244140625,\n",
       " 'dod %': -0.3872234198061252,\n",
       " 'wow %': -0.6847336887907837,\n",
       " 'mom %': -0.6702572734600051}"
      ]
     },
     "execution_count": 22,
     "metadata": {},
     "output_type": "execute_result"
    }
   ],
   "source": [
    "result"
   ]
  },
  {
   "cell_type": "code",
   "execution_count": 1,
   "id": "dae1e959",
   "metadata": {},
   "outputs": [],
   "source": [
    "import yaml"
   ]
  },
  {
   "cell_type": "code",
   "execution_count": 2,
   "id": "32cc0500",
   "metadata": {},
   "outputs": [],
   "source": [
    "with open(\"/workspaces/mcp_tools/src/prompts.yaml\",\"r\") as f:\n",
    "    data=yaml.safe_load(f)"
   ]
  },
  {
   "cell_type": "code",
   "execution_count": 3,
   "id": "c6834d68",
   "metadata": {},
   "outputs": [
    {
     "data": {
      "text/plain": [
       "{'resume_and_job_decription_rewrite': {'tool_use_case': 'use this tool to rewrite a resume based on a job description provided.',\n",
       "  'prompt': '\"\"\"\\nRewrite the following resume to match the job description provided:\\n\\nResume: {resume}\\n\\nJob Description: {job_description}\\n\\nInstructions:\\n1) Use the available experience, projects, and skills to rewrite the resume.\\n2) Don\\'t Halucinate.\\n3) Don\\'t use any external data but only the resume and job description.\\n4) Don\\'t mention any comments or notes and preamble in the response.\\n5) Give the output in markdown format with proper orientation and formatting.\\n\"\"\"\\n',\n",
       "  'inputs': {'resume': 'resume', 'job_description': 'job_description'}},\n",
       " 'cold_mail_and_person_info': {'tool_use_case': 'use this tool to write a professional and inquisitive cold mail tailored to a personal information of the recruiter, seeking job opportunities.',\n",
       "  'prompt': '\"\"\"\\nUsing the following resume, write a professional and inquisitive cold mail tailored to the personal information of the recruiter, seeking job opportunities:\\n\\nResume: {resume}\\n\\nPerson Information of the recruiter: {personal_info}\\n\\nInstructions:\\n\\n1) Start with the salutation \"Hi.\"\\n2) Write in the first person.\\n3) Utilize only the experience, projects, and skills from the resume to craft the email; do not include any external data or assumptions.\\n4) Maintain a professional and inquisitive tone, expressing interest in job opportunities.\\n5) Do not include any comments or preamble in the response.\\n6) Ensure the entire message is conveyed in no more than 5 lines.\\n7) Conclude with \"Regards,\" followed by the name of the person whose resume is being used.\\n8) Format the output in markdown as an email with proper orientation and paragraphing.\\n\"\"\"\\n',\n",
       "  'inputs': {'resume': 'resume', 'personal_info': 'personal_info'}},\n",
       " 'cold_mail_no_personal_info': {'tool_use_case': 'use this tool to write a generic professional and inquisitive cold mail seeking job opportunities without any personal information about the recipient.',\n",
       "  'prompt': '\"\"\"\\nUsing the following resume, write a generic professional and inquisitive cold mail seeking job opportunities. No personal information about the recipient is provided.\\n\\nResume: {resume}\\n\\nInstructions:\\n-1) Start with salutaion hi\\n0) write in first person.\\n1) Use the available experience, projects, and skills from the resume to write the cold mail.\\n2) The tone must be professional and inquisitive, seeking job opportunities.\\n3) Don\\'t hallucinate.\\n4) Don\\'t use any external data but only the resume.\\n5) Don\\'t mention any comments and preamble in the response.\\n6) Make sure that the entire message is conveyed in not more than 5 lines.\\n7) End with regards and the name of ther person whose resume is being used.\\n8) Give the output in markdown format in email format with proper orientation and use regards as ending greeeting followed by the name of the person from the resume\\n9)Make sure that mail is properly paragraphed and formatted.\\n\"\"\"\\n',\n",
       "  'inputs': {'resume': 'resume'}}}"
      ]
     },
     "execution_count": 3,
     "metadata": {},
     "output_type": "execute_result"
    }
   ],
   "source": [
    "data"
   ]
  },
  {
   "cell_type": "code",
   "execution_count": 1,
   "id": "6d74cd4c",
   "metadata": {},
   "outputs": [],
   "source": [
    "import yaml \n",
    "def prompt_selection(conv:str):\n",
    "    \"\"\" based on the input in the conversations select the appropriate prompt and return the prompt name\n",
    "    \"\"\"\n",
    "    with open(\"/workspaces/mcp_tools/src/prompts.yaml\",\"r\") as f:\n",
    "        data=yaml.safe_load(f)\n",
    "    prompt_name=\"\"\n",
    "\n",
    "    return prompt_name\n",
    "        "
   ]
  },
  {
   "cell_type": "code",
   "execution_count": null,
   "id": "409f9a72",
   "metadata": {},
   "outputs": [],
   "source": []
  },
  {
   "cell_type": "code",
   "execution_count": null,
   "id": "d9137eb5",
   "metadata": {},
   "outputs": [],
   "source": []
  },
  {
   "cell_type": "code",
   "execution_count": null,
   "id": "122e9b6c",
   "metadata": {},
   "outputs": [],
   "source": []
  },
  {
   "cell_type": "code",
   "execution_count": null,
   "id": "3268b5f1",
   "metadata": {},
   "outputs": [],
   "source": []
  },
  {
   "cell_type": "code",
   "execution_count": null,
   "id": "209285b4",
   "metadata": {},
   "outputs": [],
   "source": []
  },
  {
   "cell_type": "code",
   "execution_count": null,
   "id": "835a60c2",
   "metadata": {},
   "outputs": [],
   "source": []
  },
  {
   "cell_type": "code",
   "execution_count": null,
   "id": "c3550bc1",
   "metadata": {},
   "outputs": [],
   "source": []
  },
  {
   "cell_type": "code",
   "execution_count": null,
   "id": "2b1f7a8e",
   "metadata": {},
   "outputs": [],
   "source": []
  },
  {
   "cell_type": "code",
   "execution_count": null,
   "id": "ef990118",
   "metadata": {},
   "outputs": [],
   "source": []
  },
  {
   "cell_type": "code",
   "execution_count": null,
   "id": "7062a53d",
   "metadata": {},
   "outputs": [],
   "source": []
  },
  {
   "cell_type": "code",
   "execution_count": null,
   "id": "4d1bce4c",
   "metadata": {},
   "outputs": [],
   "source": []
  },
  {
   "cell_type": "code",
   "execution_count": null,
   "id": "f21e152d",
   "metadata": {},
   "outputs": [],
   "source": []
  },
  {
   "cell_type": "code",
   "execution_count": null,
   "id": "478ee85b",
   "metadata": {},
   "outputs": [],
   "source": []
  },
  {
   "cell_type": "code",
   "execution_count": null,
   "id": "081a3e3f",
   "metadata": {},
   "outputs": [],
   "source": []
  },
  {
   "cell_type": "code",
   "execution_count": null,
   "id": "3fb3d61b",
   "metadata": {},
   "outputs": [],
   "source": []
  },
  {
   "cell_type": "code",
   "execution_count": null,
   "id": "46daf369",
   "metadata": {},
   "outputs": [],
   "source": []
  },
  {
   "cell_type": "code",
   "execution_count": null,
   "id": "b8fe9bc4",
   "metadata": {},
   "outputs": [],
   "source": []
  },
  {
   "cell_type": "code",
   "execution_count": null,
   "id": "0ba31821",
   "metadata": {},
   "outputs": [],
   "source": []
  },
  {
   "cell_type": "code",
   "execution_count": null,
   "id": "a5d7523e",
   "metadata": {},
   "outputs": [],
   "source": []
  },
  {
   "cell_type": "code",
   "execution_count": null,
   "id": "7dbdca7c",
   "metadata": {},
   "outputs": [],
   "source": []
  },
  {
   "cell_type": "code",
   "execution_count": null,
   "id": "700f4f34",
   "metadata": {},
   "outputs": [],
   "source": []
  },
  {
   "cell_type": "code",
   "execution_count": null,
   "id": "4ce80699",
   "metadata": {},
   "outputs": [],
   "source": []
  },
  {
   "cell_type": "code",
   "execution_count": null,
   "id": "7633adc8",
   "metadata": {},
   "outputs": [],
   "source": []
  },
  {
   "cell_type": "code",
   "execution_count": null,
   "id": "d350a35c",
   "metadata": {},
   "outputs": [],
   "source": []
  },
  {
   "cell_type": "code",
   "execution_count": null,
   "id": "c0469ee0",
   "metadata": {},
   "outputs": [],
   "source": []
  },
  {
   "cell_type": "code",
   "execution_count": null,
   "id": "3675fade",
   "metadata": {},
   "outputs": [],
   "source": []
  },
  {
   "cell_type": "code",
   "execution_count": null,
   "id": "8f1051db",
   "metadata": {},
   "outputs": [],
   "source": []
  },
  {
   "cell_type": "code",
   "execution_count": null,
   "id": "b0ec5b39",
   "metadata": {},
   "outputs": [],
   "source": []
  },
  {
   "cell_type": "code",
   "execution_count": null,
   "id": "c2721c3d",
   "metadata": {},
   "outputs": [],
   "source": []
  },
  {
   "cell_type": "code",
   "execution_count": null,
   "id": "1b540d25",
   "metadata": {},
   "outputs": [],
   "source": []
  },
  {
   "cell_type": "code",
   "execution_count": null,
   "id": "421b1840",
   "metadata": {},
   "outputs": [],
   "source": []
  },
  {
   "cell_type": "code",
   "execution_count": null,
   "id": "15a406a0",
   "metadata": {},
   "outputs": [],
   "source": []
  },
  {
   "cell_type": "code",
   "execution_count": null,
   "id": "02914a5f",
   "metadata": {},
   "outputs": [],
   "source": []
  },
  {
   "cell_type": "code",
   "execution_count": null,
   "id": "3f37300c",
   "metadata": {},
   "outputs": [],
   "source": []
  },
  {
   "cell_type": "code",
   "execution_count": null,
   "id": "a641c51c",
   "metadata": {},
   "outputs": [],
   "source": []
  },
  {
   "cell_type": "code",
   "execution_count": null,
   "id": "43297a70",
   "metadata": {},
   "outputs": [],
   "source": []
  },
  {
   "cell_type": "code",
   "execution_count": null,
   "id": "1379e623",
   "metadata": {},
   "outputs": [],
   "source": []
  },
  {
   "cell_type": "code",
   "execution_count": null,
   "id": "95a4dbbd",
   "metadata": {},
   "outputs": [],
   "source": []
  },
  {
   "cell_type": "code",
   "execution_count": null,
   "id": "5293f98a",
   "metadata": {},
   "outputs": [],
   "source": []
  },
  {
   "cell_type": "code",
   "execution_count": null,
   "id": "ec8ea90a",
   "metadata": {},
   "outputs": [],
   "source": []
  },
  {
   "cell_type": "code",
   "execution_count": null,
   "id": "74bd1841",
   "metadata": {},
   "outputs": [],
   "source": []
  },
  {
   "cell_type": "code",
   "execution_count": null,
   "id": "38f7080f",
   "metadata": {},
   "outputs": [],
   "source": []
  },
  {
   "cell_type": "code",
   "execution_count": null,
   "id": "1e3d6ea4",
   "metadata": {},
   "outputs": [],
   "source": []
  },
  {
   "cell_type": "code",
   "execution_count": null,
   "id": "74b6fb68",
   "metadata": {},
   "outputs": [],
   "source": []
  },
  {
   "cell_type": "code",
   "execution_count": null,
   "id": "d1a7cd4a",
   "metadata": {},
   "outputs": [],
   "source": []
  },
  {
   "cell_type": "code",
   "execution_count": null,
   "id": "6aa1eeb7",
   "metadata": {},
   "outputs": [],
   "source": []
  },
  {
   "cell_type": "code",
   "execution_count": null,
   "id": "54a9b165",
   "metadata": {},
   "outputs": [],
   "source": []
  },
  {
   "cell_type": "code",
   "execution_count": null,
   "id": "2aed2f26",
   "metadata": {},
   "outputs": [],
   "source": []
  },
  {
   "cell_type": "code",
   "execution_count": null,
   "id": "9ad2b2fe",
   "metadata": {},
   "outputs": [],
   "source": []
  },
  {
   "cell_type": "code",
   "execution_count": null,
   "id": "d3a6d91f",
   "metadata": {},
   "outputs": [],
   "source": []
  },
  {
   "cell_type": "code",
   "execution_count": null,
   "metadata": {},
   "outputs": [],
   "source": []
  },
  {
   "cell_type": "code",
   "execution_count": null,
   "metadata": {},
   "outputs": [],
   "source": []
  }
 ],
 "metadata": {
  "kernelspec": {
   "display_name": "mcp_tools",
   "language": "python",
   "name": "python3"
  },
  "language_info": {
   "codemirror_mode": {
    "name": "ipython",
    "version": 3
   },
   "file_extension": ".py",
   "mimetype": "text/x-python",
   "name": "python",
   "nbconvert_exporter": "python",
   "pygments_lexer": "ipython3",
   "version": "3.12.1"
  }
 },
 "nbformat": 4,
 "nbformat_minor": 5
}
